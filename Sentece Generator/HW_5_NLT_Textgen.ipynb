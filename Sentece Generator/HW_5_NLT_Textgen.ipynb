{
  "nbformat": 4,
  "nbformat_minor": 0,
  "metadata": {
    "colab": {
      "provenance": []
    },
    "kernelspec": {
      "name": "python3",
      "display_name": "Python 3"
    },
    "language_info": {
      "name": "python"
    }
  },
  "cells": [
    {
      "cell_type": "markdown",
      "source": [
        "# CSC 820 HW #5\n",
        "## Khalid Mehtab Khan\n",
        "## SFSU ID: 923673423\n",
        "\n",
        "- All the comments and explanation in the notebook are added as text markdown\n"
      ],
      "metadata": {
        "id": "XuiMbRJ-fxvw"
      }
    },
    {
      "cell_type": "code",
      "source": [
        "!pip install -U dill"
      ],
      "metadata": {
        "colab": {
          "base_uri": "https://localhost:8080/"
        },
        "id": "uXotLqN1RBVL",
        "outputId": "8c6df9d2-2999-4f82-e7ce-e68da4f6d060"
      },
      "execution_count": 46,
      "outputs": [
        {
          "output_type": "stream",
          "name": "stdout",
          "text": [
            "Requirement already satisfied: dill in /usr/local/lib/python3.10/dist-packages (0.3.8)\n"
          ]
        }
      ]
    },
    {
      "cell_type": "code",
      "source": [
        "!pip install -U nltk==3.4"
      ],
      "metadata": {
        "colab": {
          "base_uri": "https://localhost:8080/"
        },
        "id": "V4ZWC9IqRFzC",
        "outputId": "bad466db-896e-4ab3-c62c-7bf213eb2589"
      },
      "execution_count": 3,
      "outputs": [
        {
          "output_type": "stream",
          "name": "stdout",
          "text": [
            "Collecting nltk==3.4\n",
            "  Using cached nltk-3.4-py3-none-any.whl\n",
            "Requirement already satisfied: six in /usr/local/lib/python3.10/dist-packages (from nltk==3.4) (1.16.0)\n",
            "Requirement already satisfied: singledispatch in /usr/local/lib/python3.10/dist-packages (from nltk==3.4) (4.1.0)\n",
            "Installing collected packages: nltk\n",
            "  Attempting uninstall: nltk\n",
            "    Found existing installation: nltk 3.8.1\n",
            "    Uninstalling nltk-3.8.1:\n",
            "      Successfully uninstalled nltk-3.8.1\n",
            "Successfully installed nltk-3.4\n"
          ]
        }
      ]
    },
    {
      "cell_type": "code",
      "source": [
        "# Upgrading NLTK is necessary to fix errors related to padded sequences.\n",
        "# This update ensures that all required imports work properly.\n",
        "\n",
        "# if the session is restarted becuase of this, please upgrade nltk before moving ahead\n",
        "\n",
        "!pip install --upgrade nltk"
      ],
      "metadata": {
        "colab": {
          "base_uri": "https://localhost:8080/"
        },
        "id": "nrUXAglJ3icm",
        "outputId": "cd1f292c-9287-4fe5-fb6b-bbe83fc07601"
      },
      "execution_count": 4,
      "outputs": [
        {
          "output_type": "stream",
          "name": "stdout",
          "text": [
            "Requirement already satisfied: nltk in /usr/local/lib/python3.10/dist-packages (3.4)\n",
            "Collecting nltk\n",
            "  Using cached nltk-3.8.1-py3-none-any.whl (1.5 MB)\n",
            "Requirement already satisfied: click in /usr/local/lib/python3.10/dist-packages (from nltk) (8.1.7)\n",
            "Requirement already satisfied: joblib in /usr/local/lib/python3.10/dist-packages (from nltk) (1.3.2)\n",
            "Requirement already satisfied: regex>=2021.8.3 in /usr/local/lib/python3.10/dist-packages (from nltk) (2023.12.25)\n",
            "Requirement already satisfied: tqdm in /usr/local/lib/python3.10/dist-packages (from nltk) (4.66.2)\n",
            "Installing collected packages: nltk\n",
            "  Attempting uninstall: nltk\n",
            "    Found existing installation: nltk 3.4\n",
            "    Uninstalling nltk-3.4:\n",
            "      Successfully uninstalled nltk-3.4\n",
            "Successfully installed nltk-3.8.1\n"
          ]
        }
      ]
    },
    {
      "cell_type": "markdown",
      "source": [
        "---------------------------------------------------------------------------------------"
      ],
      "metadata": {
        "id": "_HvtVIRrjbjO"
      }
    },
    {
      "cell_type": "markdown",
      "source": [
        "Import necessary functions from NLTK for text preprocessing, including padding, and creating bigrams, ngrams, and everygrams for language modeling.\n",
        "\n",
        "- 'pad_sequence' for adding start or end padding to word sequences.\n",
        "- 'bigrams' for creating pairs of adjacent words.\n",
        "- 'ngrams' for making groups of words up to a specified number.\n",
        "- 'everygrams' for generating all possible word combinations.\n",
        "- 'pad_both_ends' for adding specific markers to indicate the beginning and end of sequences."
      ],
      "metadata": {
        "id": "ixpRQ0_xX7Hc"
      }
    },
    {
      "cell_type": "code",
      "source": [
        "from nltk.util import pad_sequence\n",
        "from nltk.util import bigrams\n",
        "from nltk.util import ngrams\n",
        "from nltk.util import everygrams\n",
        "from nltk.lm.preprocessing import pad_both_ends\n",
        "from nltk.lm.preprocessing import flatten"
      ],
      "metadata": {
        "id": "duGm-LLRjqdj"
      },
      "execution_count": 5,
      "outputs": []
    },
    {
      "cell_type": "code",
      "source": [
        "import nltk\n",
        "nltk.download('punkt')"
      ],
      "metadata": {
        "colab": {
          "base_uri": "https://localhost:8080/"
        },
        "id": "IYWEcZ7CmvR7",
        "outputId": "2cc5c16c-c738-4a6c-8cae-4ca38d38d0ee"
      },
      "execution_count": 6,
      "outputs": [
        {
          "output_type": "stream",
          "name": "stderr",
          "text": [
            "[nltk_data] Downloading package punkt to /root/nltk_data...\n",
            "[nltk_data]   Package punkt is already up-to-date!\n"
          ]
        },
        {
          "output_type": "execute_result",
          "data": {
            "text/plain": [
              "True"
            ]
          },
          "metadata": {},
          "execution_count": 6
        }
      ]
    },
    {
      "cell_type": "markdown",
      "source": [
        "Import pandas for data manipulation, and NLTK's tokenization functions for splitting text into words and sentences."
      ],
      "metadata": {
        "id": "oUJsMGOOYMzQ"
      }
    },
    {
      "cell_type": "code",
      "source": [
        "import pandas as pd\n",
        "from nltk import word_tokenize, sent_tokenize"
      ],
      "metadata": {
        "id": "wusahzKql62h"
      },
      "execution_count": 7,
      "outputs": []
    },
    {
      "cell_type": "markdown",
      "source": [
        "Import language modeling tools from NLTK: 'padded_everygram_pipeline' for preparing text data, and 'MLE' for creating a language model using the Maximum Likelihood Estimation approach.\n",
        "\n",
        "- 'padded_everygram_pipeline' for preparing text data with padding and generating n-grams for language modeling.\n",
        "- 'MLE' from NLTK for creating a language model using the Maximum Likelihood Estimation method."
      ],
      "metadata": {
        "id": "kXZ6ra5oYRR7"
      }
    },
    {
      "cell_type": "code",
      "source": [
        "from nltk.lm.preprocessing import padded_everygram_pipeline\n",
        "from nltk.lm import MLE"
      ],
      "metadata": {
        "id": "d9GTX4xVm3dW"
      },
      "execution_count": 8,
      "outputs": []
    },
    {
      "cell_type": "markdown",
      "source": [
        "This example shows how the bigram function turns arrays of words into pairs called bigrams.\n",
        "\n",
        "- Each pair is made from words in the same sentence, not from different sentences. This helps us understand the sentence better and improves our predictions for the next words.\n",
        "\n",
        "We create two example sentences split into individual words. This setup helps us learn how tasks like breaking down text and forming word pairs work in language processing."
      ],
      "metadata": {
        "id": "mFhx-T804nZS"
      }
    },
    {
      "cell_type": "code",
      "source": [
        "text = [['I','need','to','book', 'ticket', 'to', 'Australia' ], ['I', 'want', 'to' ,'read', 'a' ,'book', 'of' ,'Shakespeare']]"
      ],
      "metadata": {
        "id": "BH4dGU9ejuQv"
      },
      "execution_count": 9,
      "outputs": []
    },
    {
      "cell_type": "markdown",
      "source": [
        "We can see in context of our padded language model sentences, that these bigrams are without \"s\" marking at the beginning and the '/s' end of the sentence because no preprocessing of the text has been done."
      ],
      "metadata": {
        "id": "P-JIpcZRq40q"
      }
    },
    {
      "cell_type": "code",
      "source": [
        "list(bigrams(text[0]))"
      ],
      "metadata": {
        "colab": {
          "base_uri": "https://localhost:8080/"
        },
        "id": "hXbTTKZbkxdN",
        "outputId": "cad7d887-74a8-4d7f-b063-ccf4d9704a17"
      },
      "execution_count": 11,
      "outputs": [
        {
          "output_type": "execute_result",
          "data": {
            "text/plain": [
              "[('I', 'need'),\n",
              " ('need', 'to'),\n",
              " ('to', 'book'),\n",
              " ('book', 'ticket'),\n",
              " ('ticket', 'to'),\n",
              " ('to', 'Australia')]"
            ]
          },
          "metadata": {},
          "execution_count": 11
        }
      ]
    },
    {
      "cell_type": "markdown",
      "source": [
        "Trigrams can be used in a similar way\n",
        "\n",
        "- Generate trigrams from the second sentence in our text. This is an example of how to produce n-grams of length three from a sequence of tokens"
      ],
      "metadata": {
        "id": "Xxbu2m1a5N5q"
      }
    },
    {
      "cell_type": "code",
      "source": [
        "list(ngrams(text[1], n=3))"
      ],
      "metadata": {
        "colab": {
          "base_uri": "https://localhost:8080/"
        },
        "id": "Hg09C7CVkzZr",
        "outputId": "4c9995f4-e3a0-4d15-af31-87fd7dc4331e"
      },
      "execution_count": 12,
      "outputs": [
        {
          "output_type": "execute_result",
          "data": {
            "text/plain": [
              "[('I', 'want', 'to'),\n",
              " ('want', 'to', 'read'),\n",
              " ('to', 'read', 'a'),\n",
              " ('read', 'a', 'book'),\n",
              " ('a', 'book', 'of'),\n",
              " ('book', 'of', 'Shakespeare')]"
            ]
          },
          "metadata": {},
          "execution_count": 12
        }
      ]
    },
    {
      "cell_type": "markdown",
      "source": [
        "- As this project was setup on google colab, the dataset was upload on the drive, if data is used in any other way please change the next two blocks of code."
      ],
      "metadata": {
        "id": "WygI_inE22RC"
      }
    },
    {
      "cell_type": "code",
      "source": [
        "from google.colab import drive\n",
        "drive.mount('/content/drive')"
      ],
      "metadata": {
        "colab": {
          "base_uri": "https://localhost:8080/"
        },
        "id": "1YEOuJlnldeE",
        "outputId": "589c3f82-0dd4-441e-a412-6ccd413f2ae3"
      },
      "execution_count": 13,
      "outputs": [
        {
          "output_type": "stream",
          "name": "stdout",
          "text": [
            "Drive already mounted at /content/drive; to attempt to forcibly remount, call drive.mount(\"/content/drive\", force_remount=True).\n"
          ]
        }
      ]
    },
    {
      "cell_type": "code",
      "source": [
        "trump_tweet_data = pd.read_csv('/content/drive/My Drive/Colab Notebooks/realdonaldtrump.csv')\n",
        "trump_tweet_data.head()"
      ],
      "metadata": {
        "colab": {
          "base_uri": "https://localhost:8080/",
          "height": 289
        },
        "id": "_m5OyAkTl3mV",
        "outputId": "3b79ca73-0ede-4c05-fc6e-aa7a022150d2"
      },
      "execution_count": 28,
      "outputs": [
        {
          "output_type": "execute_result",
          "data": {
            "text/plain": [
              "           id                                               link  \\\n",
              "0  1698308935  https://twitter.com/realDonaldTrump/status/169...   \n",
              "1  1701461182  https://twitter.com/realDonaldTrump/status/170...   \n",
              "2  1737479987  https://twitter.com/realDonaldTrump/status/173...   \n",
              "3  1741160716  https://twitter.com/realDonaldTrump/status/174...   \n",
              "4  1773561338  https://twitter.com/realDonaldTrump/status/177...   \n",
              "\n",
              "                                             content                 date  \\\n",
              "0  Be sure to tune in and watch Donald Trump on L...  2009-05-04 13:54:25   \n",
              "1  Donald Trump will be appearing on The View tom...  2009-05-04 20:00:10   \n",
              "2  Donald Trump reads Top Ten Financial Tips on L...  2009-05-08 08:38:08   \n",
              "3  New Blog Post: Celebrity Apprentice Finale and...  2009-05-08 15:40:15   \n",
              "4  \"My persona will never be that of a wallflower...  2009-05-12 09:07:28   \n",
              "\n",
              "   retweets  favorites mentions hashtags  \n",
              "0       510        917      NaN      NaN  \n",
              "1        34        267      NaN      NaN  \n",
              "2        13         19      NaN      NaN  \n",
              "3        11         26      NaN      NaN  \n",
              "4      1375       1945      NaN      NaN  "
            ],
            "text/html": [
              "\n",
              "  <div id=\"df-0c393cab-296a-427a-acce-44dda3fbaadf\" class=\"colab-df-container\">\n",
              "    <div>\n",
              "<style scoped>\n",
              "    .dataframe tbody tr th:only-of-type {\n",
              "        vertical-align: middle;\n",
              "    }\n",
              "\n",
              "    .dataframe tbody tr th {\n",
              "        vertical-align: top;\n",
              "    }\n",
              "\n",
              "    .dataframe thead th {\n",
              "        text-align: right;\n",
              "    }\n",
              "</style>\n",
              "<table border=\"1\" class=\"dataframe\">\n",
              "  <thead>\n",
              "    <tr style=\"text-align: right;\">\n",
              "      <th></th>\n",
              "      <th>id</th>\n",
              "      <th>link</th>\n",
              "      <th>content</th>\n",
              "      <th>date</th>\n",
              "      <th>retweets</th>\n",
              "      <th>favorites</th>\n",
              "      <th>mentions</th>\n",
              "      <th>hashtags</th>\n",
              "    </tr>\n",
              "  </thead>\n",
              "  <tbody>\n",
              "    <tr>\n",
              "      <th>0</th>\n",
              "      <td>1698308935</td>\n",
              "      <td>https://twitter.com/realDonaldTrump/status/169...</td>\n",
              "      <td>Be sure to tune in and watch Donald Trump on L...</td>\n",
              "      <td>2009-05-04 13:54:25</td>\n",
              "      <td>510</td>\n",
              "      <td>917</td>\n",
              "      <td>NaN</td>\n",
              "      <td>NaN</td>\n",
              "    </tr>\n",
              "    <tr>\n",
              "      <th>1</th>\n",
              "      <td>1701461182</td>\n",
              "      <td>https://twitter.com/realDonaldTrump/status/170...</td>\n",
              "      <td>Donald Trump will be appearing on The View tom...</td>\n",
              "      <td>2009-05-04 20:00:10</td>\n",
              "      <td>34</td>\n",
              "      <td>267</td>\n",
              "      <td>NaN</td>\n",
              "      <td>NaN</td>\n",
              "    </tr>\n",
              "    <tr>\n",
              "      <th>2</th>\n",
              "      <td>1737479987</td>\n",
              "      <td>https://twitter.com/realDonaldTrump/status/173...</td>\n",
              "      <td>Donald Trump reads Top Ten Financial Tips on L...</td>\n",
              "      <td>2009-05-08 08:38:08</td>\n",
              "      <td>13</td>\n",
              "      <td>19</td>\n",
              "      <td>NaN</td>\n",
              "      <td>NaN</td>\n",
              "    </tr>\n",
              "    <tr>\n",
              "      <th>3</th>\n",
              "      <td>1741160716</td>\n",
              "      <td>https://twitter.com/realDonaldTrump/status/174...</td>\n",
              "      <td>New Blog Post: Celebrity Apprentice Finale and...</td>\n",
              "      <td>2009-05-08 15:40:15</td>\n",
              "      <td>11</td>\n",
              "      <td>26</td>\n",
              "      <td>NaN</td>\n",
              "      <td>NaN</td>\n",
              "    </tr>\n",
              "    <tr>\n",
              "      <th>4</th>\n",
              "      <td>1773561338</td>\n",
              "      <td>https://twitter.com/realDonaldTrump/status/177...</td>\n",
              "      <td>\"My persona will never be that of a wallflower...</td>\n",
              "      <td>2009-05-12 09:07:28</td>\n",
              "      <td>1375</td>\n",
              "      <td>1945</td>\n",
              "      <td>NaN</td>\n",
              "      <td>NaN</td>\n",
              "    </tr>\n",
              "  </tbody>\n",
              "</table>\n",
              "</div>\n",
              "    <div class=\"colab-df-buttons\">\n",
              "\n",
              "  <div class=\"colab-df-container\">\n",
              "    <button class=\"colab-df-convert\" onclick=\"convertToInteractive('df-0c393cab-296a-427a-acce-44dda3fbaadf')\"\n",
              "            title=\"Convert this dataframe to an interactive table.\"\n",
              "            style=\"display:none;\">\n",
              "\n",
              "  <svg xmlns=\"http://www.w3.org/2000/svg\" height=\"24px\" viewBox=\"0 -960 960 960\">\n",
              "    <path d=\"M120-120v-720h720v720H120Zm60-500h600v-160H180v160Zm220 220h160v-160H400v160Zm0 220h160v-160H400v160ZM180-400h160v-160H180v160Zm440 0h160v-160H620v160ZM180-180h160v-160H180v160Zm440 0h160v-160H620v160Z\"/>\n",
              "  </svg>\n",
              "    </button>\n",
              "\n",
              "  <style>\n",
              "    .colab-df-container {\n",
              "      display:flex;\n",
              "      gap: 12px;\n",
              "    }\n",
              "\n",
              "    .colab-df-convert {\n",
              "      background-color: #E8F0FE;\n",
              "      border: none;\n",
              "      border-radius: 50%;\n",
              "      cursor: pointer;\n",
              "      display: none;\n",
              "      fill: #1967D2;\n",
              "      height: 32px;\n",
              "      padding: 0 0 0 0;\n",
              "      width: 32px;\n",
              "    }\n",
              "\n",
              "    .colab-df-convert:hover {\n",
              "      background-color: #E2EBFA;\n",
              "      box-shadow: 0px 1px 2px rgba(60, 64, 67, 0.3), 0px 1px 3px 1px rgba(60, 64, 67, 0.15);\n",
              "      fill: #174EA6;\n",
              "    }\n",
              "\n",
              "    .colab-df-buttons div {\n",
              "      margin-bottom: 4px;\n",
              "    }\n",
              "\n",
              "    [theme=dark] .colab-df-convert {\n",
              "      background-color: #3B4455;\n",
              "      fill: #D2E3FC;\n",
              "    }\n",
              "\n",
              "    [theme=dark] .colab-df-convert:hover {\n",
              "      background-color: #434B5C;\n",
              "      box-shadow: 0px 1px 3px 1px rgba(0, 0, 0, 0.15);\n",
              "      filter: drop-shadow(0px 1px 2px rgba(0, 0, 0, 0.3));\n",
              "      fill: #FFFFFF;\n",
              "    }\n",
              "  </style>\n",
              "\n",
              "    <script>\n",
              "      const buttonEl =\n",
              "        document.querySelector('#df-0c393cab-296a-427a-acce-44dda3fbaadf button.colab-df-convert');\n",
              "      buttonEl.style.display =\n",
              "        google.colab.kernel.accessAllowed ? 'block' : 'none';\n",
              "\n",
              "      async function convertToInteractive(key) {\n",
              "        const element = document.querySelector('#df-0c393cab-296a-427a-acce-44dda3fbaadf');\n",
              "        const dataTable =\n",
              "          await google.colab.kernel.invokeFunction('convertToInteractive',\n",
              "                                                    [key], {});\n",
              "        if (!dataTable) return;\n",
              "\n",
              "        const docLinkHtml = 'Like what you see? Visit the ' +\n",
              "          '<a target=\"_blank\" href=https://colab.research.google.com/notebooks/data_table.ipynb>data table notebook</a>'\n",
              "          + ' to learn more about interactive tables.';\n",
              "        element.innerHTML = '';\n",
              "        dataTable['output_type'] = 'display_data';\n",
              "        await google.colab.output.renderOutput(dataTable, element);\n",
              "        const docLink = document.createElement('div');\n",
              "        docLink.innerHTML = docLinkHtml;\n",
              "        element.appendChild(docLink);\n",
              "      }\n",
              "    </script>\n",
              "  </div>\n",
              "\n",
              "\n",
              "<div id=\"df-27387aad-7f0e-449a-a9ee-9eb9c381bdee\">\n",
              "  <button class=\"colab-df-quickchart\" onclick=\"quickchart('df-27387aad-7f0e-449a-a9ee-9eb9c381bdee')\"\n",
              "            title=\"Suggest charts\"\n",
              "            style=\"display:none;\">\n",
              "\n",
              "<svg xmlns=\"http://www.w3.org/2000/svg\" height=\"24px\"viewBox=\"0 0 24 24\"\n",
              "     width=\"24px\">\n",
              "    <g>\n",
              "        <path d=\"M19 3H5c-1.1 0-2 .9-2 2v14c0 1.1.9 2 2 2h14c1.1 0 2-.9 2-2V5c0-1.1-.9-2-2-2zM9 17H7v-7h2v7zm4 0h-2V7h2v10zm4 0h-2v-4h2v4z\"/>\n",
              "    </g>\n",
              "</svg>\n",
              "  </button>\n",
              "\n",
              "<style>\n",
              "  .colab-df-quickchart {\n",
              "      --bg-color: #E8F0FE;\n",
              "      --fill-color: #1967D2;\n",
              "      --hover-bg-color: #E2EBFA;\n",
              "      --hover-fill-color: #174EA6;\n",
              "      --disabled-fill-color: #AAA;\n",
              "      --disabled-bg-color: #DDD;\n",
              "  }\n",
              "\n",
              "  [theme=dark] .colab-df-quickchart {\n",
              "      --bg-color: #3B4455;\n",
              "      --fill-color: #D2E3FC;\n",
              "      --hover-bg-color: #434B5C;\n",
              "      --hover-fill-color: #FFFFFF;\n",
              "      --disabled-bg-color: #3B4455;\n",
              "      --disabled-fill-color: #666;\n",
              "  }\n",
              "\n",
              "  .colab-df-quickchart {\n",
              "    background-color: var(--bg-color);\n",
              "    border: none;\n",
              "    border-radius: 50%;\n",
              "    cursor: pointer;\n",
              "    display: none;\n",
              "    fill: var(--fill-color);\n",
              "    height: 32px;\n",
              "    padding: 0;\n",
              "    width: 32px;\n",
              "  }\n",
              "\n",
              "  .colab-df-quickchart:hover {\n",
              "    background-color: var(--hover-bg-color);\n",
              "    box-shadow: 0 1px 2px rgba(60, 64, 67, 0.3), 0 1px 3px 1px rgba(60, 64, 67, 0.15);\n",
              "    fill: var(--button-hover-fill-color);\n",
              "  }\n",
              "\n",
              "  .colab-df-quickchart-complete:disabled,\n",
              "  .colab-df-quickchart-complete:disabled:hover {\n",
              "    background-color: var(--disabled-bg-color);\n",
              "    fill: var(--disabled-fill-color);\n",
              "    box-shadow: none;\n",
              "  }\n",
              "\n",
              "  .colab-df-spinner {\n",
              "    border: 2px solid var(--fill-color);\n",
              "    border-color: transparent;\n",
              "    border-bottom-color: var(--fill-color);\n",
              "    animation:\n",
              "      spin 1s steps(1) infinite;\n",
              "  }\n",
              "\n",
              "  @keyframes spin {\n",
              "    0% {\n",
              "      border-color: transparent;\n",
              "      border-bottom-color: var(--fill-color);\n",
              "      border-left-color: var(--fill-color);\n",
              "    }\n",
              "    20% {\n",
              "      border-color: transparent;\n",
              "      border-left-color: var(--fill-color);\n",
              "      border-top-color: var(--fill-color);\n",
              "    }\n",
              "    30% {\n",
              "      border-color: transparent;\n",
              "      border-left-color: var(--fill-color);\n",
              "      border-top-color: var(--fill-color);\n",
              "      border-right-color: var(--fill-color);\n",
              "    }\n",
              "    40% {\n",
              "      border-color: transparent;\n",
              "      border-right-color: var(--fill-color);\n",
              "      border-top-color: var(--fill-color);\n",
              "    }\n",
              "    60% {\n",
              "      border-color: transparent;\n",
              "      border-right-color: var(--fill-color);\n",
              "    }\n",
              "    80% {\n",
              "      border-color: transparent;\n",
              "      border-right-color: var(--fill-color);\n",
              "      border-bottom-color: var(--fill-color);\n",
              "    }\n",
              "    90% {\n",
              "      border-color: transparent;\n",
              "      border-bottom-color: var(--fill-color);\n",
              "    }\n",
              "  }\n",
              "</style>\n",
              "\n",
              "  <script>\n",
              "    async function quickchart(key) {\n",
              "      const quickchartButtonEl =\n",
              "        document.querySelector('#' + key + ' button');\n",
              "      quickchartButtonEl.disabled = true;  // To prevent multiple clicks.\n",
              "      quickchartButtonEl.classList.add('colab-df-spinner');\n",
              "      try {\n",
              "        const charts = await google.colab.kernel.invokeFunction(\n",
              "            'suggestCharts', [key], {});\n",
              "      } catch (error) {\n",
              "        console.error('Error during call to suggestCharts:', error);\n",
              "      }\n",
              "      quickchartButtonEl.classList.remove('colab-df-spinner');\n",
              "      quickchartButtonEl.classList.add('colab-df-quickchart-complete');\n",
              "    }\n",
              "    (() => {\n",
              "      let quickchartButtonEl =\n",
              "        document.querySelector('#df-27387aad-7f0e-449a-a9ee-9eb9c381bdee button');\n",
              "      quickchartButtonEl.style.display =\n",
              "        google.colab.kernel.accessAllowed ? 'block' : 'none';\n",
              "    })();\n",
              "  </script>\n",
              "</div>\n",
              "\n",
              "    </div>\n",
              "  </div>\n"
            ],
            "application/vnd.google.colaboratory.intrinsic+json": {
              "type": "dataframe",
              "variable_name": "trump_tweet_data",
              "repr_error": "'str' object has no attribute 'empty'"
            }
          },
          "metadata": {},
          "execution_count": 28
        }
      ]
    },
    {
      "cell_type": "code",
      "source": [
        "# using the columns method of data frame, we can anlayse what types of information the data frame provides\n",
        "trump_tweet_data.columns"
      ],
      "metadata": {
        "colab": {
          "base_uri": "https://localhost:8080/"
        },
        "id": "2EtDyAy-b5IJ",
        "outputId": "84045e0e-d33a-4e77-f30c-642cbd2f5886"
      },
      "execution_count": 29,
      "outputs": [
        {
          "output_type": "execute_result",
          "data": {
            "text/plain": [
              "Index(['id', 'link', 'content', 'date', 'retweets', 'favorites', 'mentions',\n",
              "       'hashtags'],\n",
              "      dtype='object')"
            ]
          },
          "metadata": {},
          "execution_count": 29
        }
      ]
    },
    {
      "cell_type": "markdown",
      "source": [
        "Importing Dataset from drive\n",
        "\n",
        "- Here we load a dataset of Donald Trump's tweets using pandas, which is a tool for data manipulation. We then display the first few rows of the dataset with '.head()' to see what the data looks like and identify the columns, especially where the tweets are stored\n",
        "\n",
        "In the data frame, each row represents a tweet. The dataframe provides more infromation aeach tweets which can be seen as the columns of the data.\n",
        "\n",
        "Each tweet has -\n",
        "  'id',\n",
        "  'link',\n",
        "  'content',\n",
        "  'date',\n",
        "  'retweets',\n",
        "  'favorites',\n",
        "  'mentions',\n",
        "  'hashtags'"
      ],
      "metadata": {
        "id": "C1hDTykT5XC0"
      }
    },
    {
      "cell_type": "code",
      "source": [
        "trump_tokens = list(trump_tweet_data[\"content\"].apply(word_tokenize))\n",
        "len(trump_tokens)"
      ],
      "metadata": {
        "colab": {
          "base_uri": "https://localhost:8080/"
        },
        "id": "r0T67WEnmCTq",
        "outputId": "0dfab075-fcf3-455c-d116-2fbd8b86e460"
      },
      "execution_count": 30,
      "outputs": [
        {
          "output_type": "execute_result",
          "data": {
            "text/plain": [
              "43352"
            ]
          },
          "metadata": {},
          "execution_count": 30
        }
      ]
    },
    {
      "cell_type": "markdown",
      "source": [
        "Using nltk word tokenizer to tokenize each row of the content column\n",
        "\n",
        "- We take the column with tweets, which is 'content', and apply 'word_tokenize' to split each tweet into individual word strings. We store these lists of words in 'trump_tokens'.\n",
        "\n",
        "We can check how many tweets (lists of words) we have by measuring the length of 'trump_tokens'"
      ],
      "metadata": {
        "id": "zahH8jodZ86W"
      }
    },
    {
      "cell_type": "code",
      "source": [
        "trump_tokens[0]"
      ],
      "metadata": {
        "id": "vi666ZJtnlCH",
        "colab": {
          "base_uri": "https://localhost:8080/"
        },
        "outputId": "9e1957c1-9905-4f0e-c87e-7e861f01f3a8"
      },
      "execution_count": 31,
      "outputs": [
        {
          "output_type": "execute_result",
          "data": {
            "text/plain": [
              "['Be',\n",
              " 'sure',\n",
              " 'to',\n",
              " 'tune',\n",
              " 'in',\n",
              " 'and',\n",
              " 'watch',\n",
              " 'Donald',\n",
              " 'Trump',\n",
              " 'on',\n",
              " 'Late',\n",
              " 'Night',\n",
              " 'with',\n",
              " 'David',\n",
              " 'Letterman',\n",
              " 'as',\n",
              " 'he',\n",
              " 'presents',\n",
              " 'the',\n",
              " 'Top',\n",
              " 'Ten',\n",
              " 'List',\n",
              " 'tonight',\n",
              " '!']"
            ]
          },
          "metadata": {},
          "execution_count": 31
        }
      ]
    },
    {
      "cell_type": "markdown",
      "source": [
        "To get a clearer idea of how the tweets have been split into words, we look at the first tokenized tweet. This helps us see the result of the tokenization process\n",
        "\n",
        "- We can see there are 43352 sentences in the content column\n",
        "- Each sentence has its own array of words"
      ],
      "metadata": {
        "id": "BL5PgOeaR8Gj"
      }
    },
    {
      "cell_type": "code",
      "source": [
        "n = 3\n",
        "train_data, padded_sents = padded_everygram_pipeline(n, trump_tokens)"
      ],
      "metadata": {
        "id": "zE37gHXjnr6f"
      },
      "execution_count": 32,
      "outputs": []
    },
    {
      "cell_type": "markdown",
      "source": [
        "# Model Training: Phase 1 Pre-Processing\n",
        "\n",
        "- Here we start preparing our tweets to build a language model. We decide on using sequences up to three words long (that's what 'n = 3'). When the value of everygram is specified the function create word sequences of length less than or equal to the specified values. The padded_everygram_pipeline function helps us format these tweets correctly for our language model.\n",
        "\n",
        "- This function adds padding to the start and end of each tweet to handle the beginnings and endings of each setnence to keep context properly.\n",
        "\n",
        "- The 'train_data' variable will be used for training, while 'padded_sents' contains our processed tweets.\n",
        "\n",
        "## train_data\n",
        "- It is a series of everygram sequences derived from the input text, In this case we using n = 3 which will create sequences of all lenghts less than or equal to n to calculate probabliities.\n",
        "\n",
        "- As the intuitive name everygram suggests, it contains all the n-grams of length less than or equal to the specified values of n.\n",
        "\n",
        "In this case it will create all unigrams, bigrams and trigram possible for each sentence\n",
        "eg:\n",
        "\n",
        "    ('<s>',),\n",
        "    ('<s>', '<s>'),\n",
        "    ('<s>', '<s>', 'Be'),\n",
        "    ('<s>',), ('<s>', 'Be'),\n",
        "    ('<s>', 'Be', 'sure'),\n",
        "    ('Be',),\n",
        "    ('Be', 'sure'),\n",
        "    ('Be', 'sure', 'to'),\n",
        "    ('sure',),\n",
        "    ('sure', 'to'),\n",
        "    ('sure', 'to', 'tune'),\n",
        "    ('to',),\n",
        "    ('to', 'tune'),\n",
        "    ('to', 'tune', 'in'),\n",
        "    ('tune',),\n",
        "    ('tune', 'in'),\n",
        "    ('tune', 'in', 'and'),\n",
        "    ('in',), ('in', 'and'),\n",
        "    ('in', 'and', 'watch'),\n",
        "    ('and',), ('and', 'watch'),\n",
        "    ('and', 'watch', 'Donald'),\n",
        "    ('watch',),\n",
        "    ('watch', 'Donald'),\n",
        "    ('watch', 'Donald', 'Trump')\n",
        "\n",
        "  and so on\n",
        "\n",
        "## 'padded_sents'\n",
        " - contains our tweets after they've been processed. Each one starts and ends with markers like 's' and '/s', signaling the beginning and end of sentences.\n",
        "\n",
        " - This detailed structure helps our model understand context better.\n",
        "\n",
        " eg:\n",
        "    's',\n",
        "    's',\n",
        "    'Be',\n",
        "    'sure',\n",
        "    'to',\n",
        "    'tune',\n",
        "    'in',\n",
        "    'and',\n",
        "    'watch',\n",
        "    'Donald',\n",
        "    'Trump',\n",
        "    'on',\n",
        "    'Late',\n",
        "    'Night',\n",
        "    'with',\n",
        "    'David',\n",
        "    'Letterman',\n",
        "    'as',\n",
        "    'he',\n",
        "    'presents',\n",
        "    'the',\n",
        "    'Top',\n",
        "    'Ten',\n",
        "    'List',\n",
        "    'tonight',\n",
        "    '!',\n",
        "    '/s',\n",
        "    '/s',\n",
        "    's',\n",
        "    's',\n",
        "    'Donald',\n",
        "    'Trump',\n",
        "    'will',"
      ],
      "metadata": {
        "id": "2TWKneCS9prx"
      }
    },
    {
      "cell_type": "markdown",
      "source": [
        "Initialize our language model using the Maximum Likelihood Estimation (MLE) method with 'n' (the number of words to consider, which we set to 3). Then, train the model using our prepared 'train_data' to learn from the tweet sequences.\n",
        "\n"
      ],
      "metadata": {
        "id": "GkyXJrdYfwPr"
      }
    },
    {
      "cell_type": "code",
      "source": [
        "trump_model = MLE(n)\n",
        "trump_model.fit(train_data, padded_sents)"
      ],
      "metadata": {
        "id": "HaSxYGfDnr3f"
      },
      "execution_count": 33,
      "outputs": []
    },
    {
      "cell_type": "markdown",
      "source": [
        "# Model Training: Phase 2 Training\n",
        "\n",
        "- We utilize MLE here to estimate the parameters of our language model.\n",
        "- the estimation method calculates the probability of observing the data given a set of parameters.\n",
        "- We employ MLE as it helps in determining the most likely parameters that make the observed data most probable.\n",
        "\n",
        "- 'fit' method trains 'trump_model' using 'train_data' and 'padded_sents', adapting the model to learn from the training dataset.\n"
      ],
      "metadata": {
        "id": "aKzcNZFUv9xr"
      }
    },
    {
      "cell_type": "markdown",
      "source": [
        "# Generating Setences\n",
        "\n",
        "As the name De-tokenizer suggest, It helps us turn lists of words back into full sentences, making them easy to read."
      ],
      "metadata": {
        "id": "aBSRPtAff1Zh"
      }
    },
    {
      "cell_type": "code",
      "source": [
        "from nltk.tokenize.treebank import TreebankWordDetokenizer\n",
        "\n",
        "# Instance of detokenizer\n",
        "detokenize = TreebankWordDetokenizer().detokenize\n",
        "\n",
        "def generate_sent(model, num_words, random_seed=42):\n",
        "    \"\"\"\n",
        "    :param model: An ngram language model from `nltk.lm.model`.\n",
        "    :param num_words: Max no. of words to generate.\n",
        "    :param random_seed: Seed value for random.\n",
        "    \"\"\"\n",
        "    content = []\n",
        "    for token in model.generate(num_words, random_seed=random_seed):\n",
        "        if token == '<s>':\n",
        "            continue\n",
        "        if token == '</s>':\n",
        "            break\n",
        "        content.append(token)\n",
        "    return detokenize(content)"
      ],
      "metadata": {
        "id": "G7NZNq0mnr1J"
      },
      "execution_count": 34,
      "outputs": []
    },
    {
      "cell_type": "markdown",
      "source": [
        "- The generate_sent function returns new sentences by choosing words one by one, aiming for a maximum length of up to n words per sentence.\n",
        "\n",
        "- The function takes in\n",
        "    - a model,\n",
        "    - max number of words and\n",
        "    - a random number distribtution seed,\n",
        "  \n",
        "  which has been set to a default value 42 if the user provides no input for the seed.\n",
        "\n",
        "- The function works on the word pair probabilities and language patterns extracted from Trump's tweets during the model training phase.\n",
        "\n",
        "- The function skips special markers 's' and '/s' that usually indicate the start and end of sentences. The later marks the end of the sentence and once we a '/s' we break and return a compelete sentence.\n",
        "\n",
        "- Once we have all our words, we join them into one complete sentence using the detokenize function and return it.\n",
        "\n",
        "- This way, each new sentence generated mirrors the linguistic style observed in the original dataset of tweets."
      ],
      "metadata": {
        "id": "vN-bl1cugcFk"
      }
    },
    {
      "cell_type": "markdown",
      "source": [
        "# Generated Sentence Outputs"
      ],
      "metadata": {
        "id": "W0zLaqrXdACx"
      }
    },
    {
      "cell_type": "code",
      "source": [
        "generate_sent(trump_model, num_words=6)"
      ],
      "metadata": {
        "colab": {
          "base_uri": "https://localhost:8080/",
          "height": 35
        },
        "id": "qwqUyrhhxRdj",
        "outputId": "9416e25e-9658-44a0-e904-18079e35b065"
      },
      "execution_count": 35,
      "outputs": [
        {
          "output_type": "execute_result",
          "data": {
            "text/plain": [
              "'for 200 years . Thank you'"
            ],
            "application/vnd.google.colaboratory.intrinsic+json": {
              "type": "string"
            }
          },
          "metadata": {},
          "execution_count": 35
        }
      ]
    },
    {
      "cell_type": "markdown",
      "source": [
        "- generate_sent(trump_model, num_words=4)\n",
        "\n",
        "- Using the num_words as 6 for a short sentence\n",
        "- As we did not specify any seed, the randon_seed will take the default value of 42\n",
        "\n",
        " ### Generated Sentence\n",
        "-  'for 200 years . Thank you'"
      ],
      "metadata": {
        "id": "AJFfxecoxRxn"
      }
    },
    {
      "cell_type": "code",
      "source": [
        "generate_sent(trump_model, num_words=10, random_seed=56)"
      ],
      "metadata": {
        "colab": {
          "base_uri": "https://localhost:8080/",
          "height": 35
        },
        "id": "A9tiVaKOnryn",
        "outputId": "b0d33126-69fb-4e99-a3af-6756751a257a"
      },
      "execution_count": 36,
      "outputs": [
        {
          "output_type": "execute_result",
          "data": {
            "text/plain": [
              "'with his family and many thousands of energy and excitement'"
            ],
            "application/vnd.google.colaboratory.intrinsic+json": {
              "type": "string"
            }
          },
          "metadata": {},
          "execution_count": 36
        }
      ]
    },
    {
      "cell_type": "markdown",
      "source": [
        "- generate_sent(trump_model, num_words=10, random_seed=56)\n",
        "\n",
        "\n",
        " ### Generated Sentence\n",
        "-  'with his family and many thousands of energy and excitement'\n",
        "\n"
      ],
      "metadata": {
        "id": "mTc1nY_xxCcL"
      }
    },
    {
      "cell_type": "code",
      "source": [
        "generate_sent(trump_model, num_words=20, random_seed=112)"
      ],
      "metadata": {
        "id": "VgWst8xfoJ6n",
        "colab": {
          "base_uri": "https://localhost:8080/",
          "height": 35
        },
        "outputId": "ede02062-bbd6-4293-a768-eea1ef0d3598"
      },
      "execution_count": 37,
      "outputs": [
        {
          "output_type": "execute_result",
          "data": {
            "text/plain": [
              "'Trump_Ireland graces over 500 acres fronting 2.5 miles . Extraordinary! http: //bit.ly/jyfGP3 #celebrityapprenticefinale'"
            ],
            "application/vnd.google.colaboratory.intrinsic+json": {
              "type": "string"
            }
          },
          "metadata": {},
          "execution_count": 37
        }
      ]
    },
    {
      "cell_type": "markdown",
      "source": [
        "- generate_sent(trump_model, num_words=20, random_seed=112)\n",
        "\n",
        "We use the generate random functio nwith the same model but with the length of sentence specified as 20 and random numbers seed as 112\n",
        "\n",
        " ### Generated Sentence\n",
        "- Trump_Ireland graces over 500 acres fronting 2.5 miles . Extraordinary! http: //bit.ly/jyfGP3 #celebrityapprenticefinale"
      ],
      "metadata": {
        "id": "ihFFCtvbxhfp"
      }
    },
    {
      "cell_type": "markdown",
      "source": [
        "# Limitations\n",
        "\n",
        "- If we specify a length too long the model will generate a sentece that might not make sence after a while, becuase the model tries to keep the context of words to a sentence, Also, in general most sentences are not very long.\n",
        "\n",
        "- The model works better with short sentence lengths\n",
        "\n",
        "- For the same random seed the model will keep generating same sequence of words."
      ],
      "metadata": {
        "id": "jYmyS52lyfIJ"
      }
    },
    {
      "cell_type": "code",
      "source": [],
      "metadata": {
        "id": "vuTpkagTkFdl"
      },
      "execution_count": null,
      "outputs": []
    }
  ]
}