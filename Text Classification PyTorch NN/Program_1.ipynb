{
 "cells": [
  {
   "cell_type": "markdown",
   "metadata": {},
   "source": [
    "### CSC 820 NLT HW 13\n",
    "### Sentiment Classification using Feed Forward Neural Network in PyTorch\n",
    "* > Khalid Mehtab Khan\n",
    "* > SFSU ID: 923673423"
   ]
  },
  {
   "cell_type": "code",
   "execution_count": 1,
   "metadata": {},
   "outputs": [],
   "source": [
    "import pandas as pd"
   ]
  },
  {
   "cell_type": "markdown",
   "metadata": {},
   "source": [
    "## Data Extraction\n",
    "- In this step, we convert our data from a JSON file to a CSV file.\n",
    "- We aim to strip the important information and put it in a structure that is usable and efficient.\n",
    "- This code only needs to be run once for both models.\n",
    "- It outputs a CSV file \"output_reviews_top.csv\" which can be used for modeling.\n"
   ]
  },
  {
   "cell_type": "code",
   "execution_count": 2,
   "metadata": {},
   "outputs": [],
   "source": [
    "# def load_yelp_orig_data():\n",
    "#     PATH_TO_YELP_REVIEWS = 'yelp_dataset/yelp_academic_dataset_review.json'\n",
    "\n",
    "#     # read the entire file into a python array\n",
    "#     with open(PATH_TO_YELP_REVIEWS, 'r') as f:\n",
    "#         data = f.readlines()\n",
    "\n",
    "#     # remove the trailing \"\\n\" from each line\n",
    "#     data = map(lambda x: x.rstrip(), data)\n",
    "\n",
    "#     data_json_str = \"[\" + ','.join(data) + \"]\"\n",
    "\n",
    "#     # now, load it into pandas\n",
    "#     data_df = pd.read_json(data_json_str)\n",
    "\n",
    "#     data_df.head(100000).to_csv('output_reviews_top.csv')\n",
    "\n",
    "# load_yelp_orig_data()"
   ]
  },
  {
   "cell_type": "markdown",
   "metadata": {},
   "source": [
    "## Loading the Dataset\n",
    "- loading the dataset from the previously generated CSV file.\n",
    "- If running on Google Colaboratory, you need to upload the \"output_reviews_top.csv\" file to the runtime.\n",
    "- The code snippet to mount Google Drive and copy the CSV file is provided (uncomment if needed).\n",
    "- the last two lines load the data set in the variable `top_data_df`"
   ]
  },
  {
   "cell_type": "code",
   "execution_count": 3,
   "metadata": {},
   "outputs": [
    {
     "data": {
      "text/html": [
       "<div>\n",
       "<style scoped>\n",
       "    .dataframe tbody tr th:only-of-type {\n",
       "        vertical-align: middle;\n",
       "    }\n",
       "\n",
       "    .dataframe tbody tr th {\n",
       "        vertical-align: top;\n",
       "    }\n",
       "\n",
       "    .dataframe thead th {\n",
       "        text-align: right;\n",
       "    }\n",
       "</style>\n",
       "<table border=\"1\" class=\"dataframe\">\n",
       "  <thead>\n",
       "    <tr style=\"text-align: right;\">\n",
       "      <th></th>\n",
       "      <th>Unnamed: 0</th>\n",
       "      <th>review_id</th>\n",
       "      <th>user_id</th>\n",
       "      <th>business_id</th>\n",
       "      <th>stars</th>\n",
       "      <th>useful</th>\n",
       "      <th>funny</th>\n",
       "      <th>cool</th>\n",
       "      <th>text</th>\n",
       "      <th>date</th>\n",
       "    </tr>\n",
       "  </thead>\n",
       "  <tbody>\n",
       "    <tr>\n",
       "      <th>0</th>\n",
       "      <td>0</td>\n",
       "      <td>KU_O5udG6zpxOg-VcAEodg</td>\n",
       "      <td>mh_-eMZ6K5RLWhZyISBhwA</td>\n",
       "      <td>XQfwVwDr-v0ZS3_CbbE5Xw</td>\n",
       "      <td>3</td>\n",
       "      <td>0</td>\n",
       "      <td>0</td>\n",
       "      <td>0</td>\n",
       "      <td>If you decide to eat here, just be aware it is...</td>\n",
       "      <td>2018-07-07 22:09:11</td>\n",
       "    </tr>\n",
       "    <tr>\n",
       "      <th>1</th>\n",
       "      <td>1</td>\n",
       "      <td>BiTunyQ73aT9WBnpR9DZGw</td>\n",
       "      <td>OyoGAe7OKpv6SyGZT5g77Q</td>\n",
       "      <td>7ATYjTIgM3jUlt4UM3IypQ</td>\n",
       "      <td>5</td>\n",
       "      <td>1</td>\n",
       "      <td>0</td>\n",
       "      <td>1</td>\n",
       "      <td>I've taken a lot of spin classes over the year...</td>\n",
       "      <td>2012-01-03 15:28:18</td>\n",
       "    </tr>\n",
       "    <tr>\n",
       "      <th>2</th>\n",
       "      <td>2</td>\n",
       "      <td>saUsX_uimxRlCVr67Z4Jig</td>\n",
       "      <td>8g_iMtfSiwikVnbP2etR0A</td>\n",
       "      <td>YjUWPpI6HXG530lwP-fb2A</td>\n",
       "      <td>3</td>\n",
       "      <td>0</td>\n",
       "      <td>0</td>\n",
       "      <td>0</td>\n",
       "      <td>Family diner. Had the buffet. Eclectic assortm...</td>\n",
       "      <td>2014-02-05 20:30:30</td>\n",
       "    </tr>\n",
       "    <tr>\n",
       "      <th>3</th>\n",
       "      <td>3</td>\n",
       "      <td>AqPFMleE6RsU23_auESxiA</td>\n",
       "      <td>_7bHUi9Uuf5__HHc_Q8guQ</td>\n",
       "      <td>kxX2SOes4o-D3ZQBkiMRfA</td>\n",
       "      <td>5</td>\n",
       "      <td>1</td>\n",
       "      <td>0</td>\n",
       "      <td>1</td>\n",
       "      <td>Wow!  Yummy, different,  delicious.   Our favo...</td>\n",
       "      <td>2015-01-04 00:01:03</td>\n",
       "    </tr>\n",
       "    <tr>\n",
       "      <th>4</th>\n",
       "      <td>4</td>\n",
       "      <td>Sx8TMOWLNuJBWer-0pcmoA</td>\n",
       "      <td>bcjbaE6dDog4jkNY91ncLQ</td>\n",
       "      <td>e4Vwtrqf-wpJfwesgvdgxQ</td>\n",
       "      <td>4</td>\n",
       "      <td>1</td>\n",
       "      <td>0</td>\n",
       "      <td>1</td>\n",
       "      <td>Cute interior and owner (?) gave us tour of up...</td>\n",
       "      <td>2017-01-14 20:54:15</td>\n",
       "    </tr>\n",
       "  </tbody>\n",
       "</table>\n",
       "</div>"
      ],
      "text/plain": [
       "   Unnamed: 0               review_id                 user_id  \\\n",
       "0           0  KU_O5udG6zpxOg-VcAEodg  mh_-eMZ6K5RLWhZyISBhwA   \n",
       "1           1  BiTunyQ73aT9WBnpR9DZGw  OyoGAe7OKpv6SyGZT5g77Q   \n",
       "2           2  saUsX_uimxRlCVr67Z4Jig  8g_iMtfSiwikVnbP2etR0A   \n",
       "3           3  AqPFMleE6RsU23_auESxiA  _7bHUi9Uuf5__HHc_Q8guQ   \n",
       "4           4  Sx8TMOWLNuJBWer-0pcmoA  bcjbaE6dDog4jkNY91ncLQ   \n",
       "\n",
       "              business_id  stars  useful  funny  cool  \\\n",
       "0  XQfwVwDr-v0ZS3_CbbE5Xw      3       0      0     0   \n",
       "1  7ATYjTIgM3jUlt4UM3IypQ      5       1      0     1   \n",
       "2  YjUWPpI6HXG530lwP-fb2A      3       0      0     0   \n",
       "3  kxX2SOes4o-D3ZQBkiMRfA      5       1      0     1   \n",
       "4  e4Vwtrqf-wpJfwesgvdgxQ      4       1      0     1   \n",
       "\n",
       "                                                text                 date  \n",
       "0  If you decide to eat here, just be aware it is...  2018-07-07 22:09:11  \n",
       "1  I've taken a lot of spin classes over the year...  2012-01-03 15:28:18  \n",
       "2  Family diner. Had the buffet. Eclectic assortm...  2014-02-05 20:30:30  \n",
       "3  Wow!  Yummy, different,  delicious.   Our favo...  2015-01-04 00:01:03  \n",
       "4  Cute interior and owner (?) gave us tour of up...  2017-01-14 20:54:15  "
      ]
     },
     "execution_count": 3,
     "metadata": {},
     "output_type": "execute_result"
    }
   ],
   "source": [
    "# if runnig on google colaboratory\n",
    "# upload the output_reviews_top.csv file to the runtime\n",
    "\n",
    "# Uncomment the following code\n",
    "\n",
    "# from google.colab import drive\n",
    "# drive.mount('/content/drive')\n",
    "# !cp /content/drive/My\\ Drive/output_reviews_top.csv .\n",
    "\n",
    "\n",
    "top_data_df = pd.read_csv('output_reviews_top.csv')\n",
    "top_data_df.head()\n",
    "\n"
   ]
  },
  {
   "cell_type": "markdown",
   "metadata": {},
   "source": [
    "## Data Mapping\n",
    "- We map star ratings in the dataset to sentiment categories in the part.\n",
    "- We use the `value_counts` method to count the number of reviews for each star rating.\n",
    "- The `map_sentiment` function maps the star ratings to three sentiment categories: negative (-1), neutral (0), and positive (1).\n",
    "- The new sentiment values are added to the DataFrame in a new column \"sentiment\".\n",
    "- Finally, we plot the distribution of sentiments to visualize the data.\n"
   ]
  },
  {
   "cell_type": "code",
   "execution_count": 4,
   "metadata": {},
   "outputs": [
    {
     "name": "stdout",
     "output_type": "stream",
     "text": [
      "Number of rows per star rating:\n",
      "5    44392\n",
      "4    25337\n",
      "3    11362\n",
      "1    10921\n",
      "2     7988\n",
      "Name: stars, dtype: int64\n"
     ]
    },
    {
     "data": {
      "image/png": "[encoded data removed]",
      "text/plain": [
       "<Figure size 640x480 with 1 Axes>"
      ]
     },
     "metadata": {},
     "output_type": "display_data"
    }
   ],
   "source": [
    "import matplotlib.pyplot as plt \n",
    "\n",
    "print(\"Number of rows per star rating:\")\n",
    "print(top_data_df['stars'].value_counts())\n",
    "\n",
    "# Function to map stars to sentiment\n",
    "def map_sentiment(stars_received):\n",
    "    if stars_received <= 2:\n",
    "        return -1\n",
    "    elif stars_received == 3:\n",
    "        return 0\n",
    "    else:\n",
    "        return 1\n",
    "# Mapping stars to sentiment into three categories\n",
    "top_data_df['sentiment'] = [ map_sentiment(x) for x in top_data_df['stars']]\n",
    "# Plotting the sentiment distribution\n",
    "plt.figure()\n",
    "pd.value_counts(top_data_df['sentiment']).plot.bar(title=\"Sentiment distribution in df\")\n",
    "plt.xlabel(\"Sentiment\")\n",
    "plt.ylabel(\"No. of rows in df\")\n",
    "plt.show()"
   ]
  },
  {
   "cell_type": "markdown",
   "metadata": {},
   "source": [
    "* > Observations\n",
    "- We can observe that the positive sentiment (label 1) has the highest number of reviews.\n",
    "- The negative sentiment (label -1) has a moderate number of reviews.\n",
    "- The neutral sentiment (label 0) has the least number of reviews."
   ]
  },
  {
   "cell_type": "markdown",
   "metadata": {},
   "source": [
    "- to get equal dist of all classes"
   ]
  },
  {
   "cell_type": "markdown",
   "metadata": {},
   "source": [
    "- Try to balance the number of classes in both the sets so that the results are not biased"
   ]
  },
  {
   "cell_type": "markdown",
   "metadata": {},
   "source": [
    "## Sampling Data\n",
    "- to ensure  we have a balanced dataset \n",
    "- we select the top N samples from each sentiment category.\n",
    "- The function `get_top_data` selects the top N positive, negative, and neutral reviews.\n",
    "- These subsets are concatenated into a new DataFrame.\n",
    "- It returns this balanced subset.\n",
    "- top 10,000 samples from each sentiment category are selected\n"
   ]
  },
  {
   "cell_type": "code",
   "execution_count": 5,
   "metadata": {},
   "outputs": [
    {
     "name": "stdout",
     "output_type": "stream",
     "text": [
      "After segregating and taking equal number of rows for each sentiment:\n",
      " 1    10000\n",
      "-1    10000\n",
      " 0    10000\n",
      "Name: sentiment, dtype: int64\n"
     ]
    },
    {
     "data": {
      "text/html": [
       "<div>\n",
       "<style scoped>\n",
       "    .dataframe tbody tr th:only-of-type {\n",
       "        vertical-align: middle;\n",
       "    }\n",
       "\n",
       "    .dataframe tbody tr th {\n",
       "        vertical-align: top;\n",
       "    }\n",
       "\n",
       "    .dataframe thead th {\n",
       "        text-align: right;\n",
       "    }\n",
       "</style>\n",
       "<table border=\"1\" class=\"dataframe\">\n",
       "  <thead>\n",
       "    <tr style=\"text-align: right;\">\n",
       "      <th></th>\n",
       "      <th>Unnamed: 0</th>\n",
       "      <th>review_id</th>\n",
       "      <th>user_id</th>\n",
       "      <th>business_id</th>\n",
       "      <th>stars</th>\n",
       "      <th>useful</th>\n",
       "      <th>funny</th>\n",
       "      <th>cool</th>\n",
       "      <th>text</th>\n",
       "      <th>date</th>\n",
       "      <th>sentiment</th>\n",
       "    </tr>\n",
       "  </thead>\n",
       "  <tbody>\n",
       "    <tr>\n",
       "      <th>1</th>\n",
       "      <td>1</td>\n",
       "      <td>BiTunyQ73aT9WBnpR9DZGw</td>\n",
       "      <td>OyoGAe7OKpv6SyGZT5g77Q</td>\n",
       "      <td>7ATYjTIgM3jUlt4UM3IypQ</td>\n",
       "      <td>5</td>\n",
       "      <td>1</td>\n",
       "      <td>0</td>\n",
       "      <td>1</td>\n",
       "      <td>I've taken a lot of spin classes over the year...</td>\n",
       "      <td>2012-01-03 15:28:18</td>\n",
       "      <td>1</td>\n",
       "    </tr>\n",
       "    <tr>\n",
       "      <th>3</th>\n",
       "      <td>3</td>\n",
       "      <td>AqPFMleE6RsU23_auESxiA</td>\n",
       "      <td>_7bHUi9Uuf5__HHc_Q8guQ</td>\n",
       "      <td>kxX2SOes4o-D3ZQBkiMRfA</td>\n",
       "      <td>5</td>\n",
       "      <td>1</td>\n",
       "      <td>0</td>\n",
       "      <td>1</td>\n",
       "      <td>Wow!  Yummy, different,  delicious.   Our favo...</td>\n",
       "      <td>2015-01-04 00:01:03</td>\n",
       "      <td>1</td>\n",
       "    </tr>\n",
       "    <tr>\n",
       "      <th>4</th>\n",
       "      <td>4</td>\n",
       "      <td>Sx8TMOWLNuJBWer-0pcmoA</td>\n",
       "      <td>bcjbaE6dDog4jkNY91ncLQ</td>\n",
       "      <td>e4Vwtrqf-wpJfwesgvdgxQ</td>\n",
       "      <td>4</td>\n",
       "      <td>1</td>\n",
       "      <td>0</td>\n",
       "      <td>1</td>\n",
       "      <td>Cute interior and owner (?) gave us tour of up...</td>\n",
       "      <td>2017-01-14 20:54:15</td>\n",
       "      <td>1</td>\n",
       "    </tr>\n",
       "    <tr>\n",
       "      <th>6</th>\n",
       "      <td>6</td>\n",
       "      <td>6AxgBCNX_PNTOxmbRSwcKQ</td>\n",
       "      <td>r3zeYsv1XFBRA4dJpL78cw</td>\n",
       "      <td>gmjsEdUsKpj9Xxu6pdjH0g</td>\n",
       "      <td>5</td>\n",
       "      <td>0</td>\n",
       "      <td>2</td>\n",
       "      <td>0</td>\n",
       "      <td>Loved this tour! I grabbed a groupon and the p...</td>\n",
       "      <td>2015-01-03 23:21:18</td>\n",
       "      <td>1</td>\n",
       "    </tr>\n",
       "    <tr>\n",
       "      <th>7</th>\n",
       "      <td>7</td>\n",
       "      <td>_ZeMknuYdlQcUqng_Im3yg</td>\n",
       "      <td>yfFzsLmaWF2d4Sr0UNbBgg</td>\n",
       "      <td>LHSTtnW3YHCeUkRDGyJOyw</td>\n",
       "      <td>5</td>\n",
       "      <td>2</td>\n",
       "      <td>0</td>\n",
       "      <td>0</td>\n",
       "      <td>Amazingly amazing wings and homemade bleu chee...</td>\n",
       "      <td>2015-08-07 02:29:16</td>\n",
       "      <td>1</td>\n",
       "    </tr>\n",
       "    <tr>\n",
       "      <th>10</th>\n",
       "      <td>10</td>\n",
       "      <td>rGQRf8UafX7OTlMNN19I8A</td>\n",
       "      <td>1WHRWwQmZOZDAhp2Qyny4g</td>\n",
       "      <td>uMvVYRgGNXf5boolA9HXTw</td>\n",
       "      <td>5</td>\n",
       "      <td>2</td>\n",
       "      <td>0</td>\n",
       "      <td>0</td>\n",
       "      <td>My experience with Shalimar was nothing but wo...</td>\n",
       "      <td>2015-06-21 14:48:06</td>\n",
       "      <td>1</td>\n",
       "    </tr>\n",
       "    <tr>\n",
       "      <th>11</th>\n",
       "      <td>11</td>\n",
       "      <td>l3Wk_mvAog6XANIuGQ9C7Q</td>\n",
       "      <td>ZbqSHbgCjzVAqaa7NKWn5A</td>\n",
       "      <td>EQ-TZ2eeD_E0BHuvoaeG5Q</td>\n",
       "      <td>4</td>\n",
       "      <td>0</td>\n",
       "      <td>0</td>\n",
       "      <td>0</td>\n",
       "      <td>Locals recommended Milktooth, and it's an amaz...</td>\n",
       "      <td>2015-08-19 14:31:45</td>\n",
       "      <td>1</td>\n",
       "    </tr>\n",
       "    <tr>\n",
       "      <th>12</th>\n",
       "      <td>12</td>\n",
       "      <td>XW_LfMv0fV21l9c6xQd_lw</td>\n",
       "      <td>9OAtfnWag-ajVxRbUTGIyg</td>\n",
       "      <td>lj-E32x9_FA7GmUrBGBEWg</td>\n",
       "      <td>4</td>\n",
       "      <td>0</td>\n",
       "      <td>0</td>\n",
       "      <td>0</td>\n",
       "      <td>Love going here for happy hour or dinner!  Gre...</td>\n",
       "      <td>2014-06-27 22:44:01</td>\n",
       "      <td>1</td>\n",
       "    </tr>\n",
       "    <tr>\n",
       "      <th>13</th>\n",
       "      <td>13</td>\n",
       "      <td>8JFGBuHMoiNDyfcxuWNtrA</td>\n",
       "      <td>smOvOajNG0lS4Pq7d8g4JQ</td>\n",
       "      <td>RZtGWDLCAtuipwaZ-UfjmQ</td>\n",
       "      <td>4</td>\n",
       "      <td>0</td>\n",
       "      <td>0</td>\n",
       "      <td>0</td>\n",
       "      <td>Good food--loved the gnocchi with marinara\\nth...</td>\n",
       "      <td>2009-10-14 19:57:14</td>\n",
       "      <td>1</td>\n",
       "    </tr>\n",
       "    <tr>\n",
       "      <th>14</th>\n",
       "      <td>14</td>\n",
       "      <td>UBp0zWyH60Hmw6Fsasei7w</td>\n",
       "      <td>4Uh27DgGzsp6PqrH913giQ</td>\n",
       "      <td>otQS34_MymijPTdNBoBdCw</td>\n",
       "      <td>4</td>\n",
       "      <td>0</td>\n",
       "      <td>2</td>\n",
       "      <td>0</td>\n",
       "      <td>The bun makes the Sonoran Dog. It's like a snu...</td>\n",
       "      <td>2011-10-27 17:12:05</td>\n",
       "      <td>1</td>\n",
       "    </tr>\n",
       "  </tbody>\n",
       "</table>\n",
       "</div>"
      ],
      "text/plain": [
       "    Unnamed: 0               review_id                 user_id  \\\n",
       "1            1  BiTunyQ73aT9WBnpR9DZGw  OyoGAe7OKpv6SyGZT5g77Q   \n",
       "3            3  AqPFMleE6RsU23_auESxiA  _7bHUi9Uuf5__HHc_Q8guQ   \n",
       "4            4  Sx8TMOWLNuJBWer-0pcmoA  bcjbaE6dDog4jkNY91ncLQ   \n",
       "6            6  6AxgBCNX_PNTOxmbRSwcKQ  r3zeYsv1XFBRA4dJpL78cw   \n",
       "7            7  _ZeMknuYdlQcUqng_Im3yg  yfFzsLmaWF2d4Sr0UNbBgg   \n",
       "10          10  rGQRf8UafX7OTlMNN19I8A  1WHRWwQmZOZDAhp2Qyny4g   \n",
       "11          11  l3Wk_mvAog6XANIuGQ9C7Q  ZbqSHbgCjzVAqaa7NKWn5A   \n",
       "12          12  XW_LfMv0fV21l9c6xQd_lw  9OAtfnWag-ajVxRbUTGIyg   \n",
       "13          13  8JFGBuHMoiNDyfcxuWNtrA  smOvOajNG0lS4Pq7d8g4JQ   \n",
       "14          14  UBp0zWyH60Hmw6Fsasei7w  4Uh27DgGzsp6PqrH913giQ   \n",
       "\n",
       "               business_id  stars  useful  funny  cool  \\\n",
       "1   7ATYjTIgM3jUlt4UM3IypQ      5       1      0     1   \n",
       "3   kxX2SOes4o-D3ZQBkiMRfA      5       1      0     1   \n",
       "4   e4Vwtrqf-wpJfwesgvdgxQ      4       1      0     1   \n",
       "6   gmjsEdUsKpj9Xxu6pdjH0g      5       0      2     0   \n",
       "7   LHSTtnW3YHCeUkRDGyJOyw      5       2      0     0   \n",
       "10  uMvVYRgGNXf5boolA9HXTw      5       2      0     0   \n",
       "11  EQ-TZ2eeD_E0BHuvoaeG5Q      4       0      0     0   \n",
       "12  lj-E32x9_FA7GmUrBGBEWg      4       0      0     0   \n",
       "13  RZtGWDLCAtuipwaZ-UfjmQ      4       0      0     0   \n",
       "14  otQS34_MymijPTdNBoBdCw      4       0      2     0   \n",
       "\n",
       "                                                 text                 date  \\\n",
       "1   I've taken a lot of spin classes over the year...  2012-01-03 15:28:18   \n",
       "3   Wow!  Yummy, different,  delicious.   Our favo...  2015-01-04 00:01:03   \n",
       "4   Cute interior and owner (?) gave us tour of up...  2017-01-14 20:54:15   \n",
       "6   Loved this tour! I grabbed a groupon and the p...  2015-01-03 23:21:18   \n",
       "7   Amazingly amazing wings and homemade bleu chee...  2015-08-07 02:29:16   \n",
       "10  My experience with Shalimar was nothing but wo...  2015-06-21 14:48:06   \n",
       "11  Locals recommended Milktooth, and it's an amaz...  2015-08-19 14:31:45   \n",
       "12  Love going here for happy hour or dinner!  Gre...  2014-06-27 22:44:01   \n",
       "13  Good food--loved the gnocchi with marinara\\nth...  2009-10-14 19:57:14   \n",
       "14  The bun makes the Sonoran Dog. It's like a snu...  2011-10-27 17:12:05   \n",
       "\n",
       "    sentiment  \n",
       "1           1  \n",
       "3           1  \n",
       "4           1  \n",
       "6           1  \n",
       "7           1  \n",
       "10          1  \n",
       "11          1  \n",
       "12          1  \n",
       "13          1  \n",
       "14          1  "
      ]
     },
     "execution_count": 5,
     "metadata": {},
     "output_type": "execute_result"
    }
   ],
   "source": [
    "def get_top_data(top_n = 5000):\n",
    "    top_data_df_positive = top_data_df[top_data_df['sentiment'] == 1].head(top_n)\n",
    "    top_data_df_negative = top_data_df[top_data_df['sentiment'] == -1].head(top_n)\n",
    "    top_data_df_neutral = top_data_df[top_data_df['sentiment'] == 0].head(top_n)\n",
    "    top_data_df_small = pd.concat([top_data_df_positive, top_data_df_negative, top_data_df_neutral])\n",
    "    return top_data_df_small\n",
    "\n",
    "# Function call to get the top 10000 from each sentiment\n",
    "top_data_df_small = get_top_data(top_n=10000)\n",
    "\n",
    "# After selecting top few samples of each sentiment\n",
    "print(\"After segregating and taking equal number of rows for each sentiment:\")\n",
    "print(top_data_df_small['sentiment'].value_counts())\n",
    "top_data_df_small.head(10)"
   ]
  },
  {
   "cell_type": "markdown",
   "metadata": {},
   "source": [
    "## Data PreProcessing"
   ]
  },
  {
   "cell_type": "markdown",
   "metadata": {},
   "source": [
    "* > Remove Stop Words\n",
    "- Gensim's `remove_stopwords` function.\n",
    "- Stop words are common words (like \"the\", \"and\", \"is\") that may not add significant meaning to the text analysis.\n",
    "- However, removing stop words can sometimes change the context of a sentence, which is why stop word removal is not implemented in this project.\n",
    "- The examples show how sentences look after removing stop words.\n"
   ]
  },
  {
   "cell_type": "code",
   "execution_count": 6,
   "metadata": {},
   "outputs": [
    {
     "name": "stdout",
     "output_type": "stream",
     "text": [
      "Restaurant good service!!\n",
      "I like food!!\n",
      "This product good!!\n"
     ]
    }
   ],
   "source": [
    "# Removing the stop words\n",
    "from gensim.parsing.preprocessing import remove_stopwords\n",
    "print(remove_stopwords(\"Restaurant had a really good service!!\"))\n",
    "print(remove_stopwords(\"I did not like the food!!\"))\n",
    "print(remove_stopwords(\"This product is not good!!\"))"
   ]
  },
  {
   "cell_type": "markdown",
   "metadata": {},
   "source": [
    "- As Stopwords change will change the context of the sentence we want to capture, removal of sstop words is not implemented here"
   ]
  },
  {
   "cell_type": "markdown",
   "metadata": {},
   "source": [
    "* > Tokenizing Text Data\n",
    "- This code block tokenizes the text data in the dataset.\n",
    "- it converts text into individual words or tokens\n",
    "- We use Gensim's `simple_preprocess` function to tokenize the text in the 'text' column.\n",
    "- The tokenized text is stored in a new column 'tokenized_text'.\n"
   ]
  },
  {
   "cell_type": "code",
   "execution_count": 7,
   "metadata": {},
   "outputs": [
    {
     "name": "stdout",
     "output_type": "stream",
     "text": [
      "1     [ve, taken, lot, of, spin, classes, over, the,...\n",
      "3     [wow, yummy, different, delicious, our, favori...\n",
      "4     [cute, interior, and, owner, gave, us, tour, o...\n",
      "6     [loved, this, tour, grabbed, groupon, and, the...\n",
      "7     [amazingly, amazing, wings, and, homemade, ble...\n",
      "10    [my, experience, with, shalimar, was, nothing,...\n",
      "11    [locals, recommended, milktooth, and, it, an, ...\n",
      "12    [love, going, here, for, happy, hour, or, dinn...\n",
      "13    [good, food, loved, the, gnocchi, with, marina...\n",
      "14    [the, bun, makes, the, sonoran, dog, it, like,...\n",
      "Name: tokenized_text, dtype: object\n"
     ]
    }
   ],
   "source": [
    "from gensim.utils import simple_preprocess\n",
    "# Tokenize the text column to get the new column 'tokenized_text'\n",
    "top_data_df_small['tokenized_text'] = [simple_preprocess(line, deacc=True) for line in top_data_df_small['text']] \n",
    "print(top_data_df_small['tokenized_text'].head(10))"
   ]
  },
  {
   "cell_type": "markdown",
   "metadata": {},
   "source": [
    "* > Stemming Text Data\n",
    "- This cell performs stemming on the tokenized text data.\n",
    "- reducing words to their base or root form.\n",
    "- We use Gensim's `PorterStemmer` for stemming.\n",
    "- Each token in the 'tokenized_text' column is stemmed and stored in a new column 'stemmed_tokens'.\n"
   ]
  },
  {
   "cell_type": "code",
   "execution_count": 8,
   "metadata": {},
   "outputs": [
    {
     "data": {
      "text/plain": [
       "1     [ve, taken, lot, of, spin, class, over, the, y...\n",
       "3     [wow, yummi, differ, delici, our, favorit, is,...\n",
       "4     [cute, interior, and, owner, gave, us, tour, o...\n",
       "6     [love, thi, tour, grab, groupon, and, the, pri...\n",
       "7     [amazingli, amaz, wing, and, homemad, bleu, ch...\n",
       "10    [my, experi, with, shalimar, wa, noth, but, wo...\n",
       "11    [local, recommend, milktooth, and, it, an, ama...\n",
       "12    [love, go, here, for, happi, hour, or, dinner,...\n",
       "13    [good, food, love, the, gnocchi, with, marinar...\n",
       "14    [the, bun, make, the, sonoran, dog, it, like, ...\n",
       "Name: stemmed_tokens, dtype: object"
      ]
     },
     "execution_count": 8,
     "metadata": {},
     "output_type": "execute_result"
    }
   ],
   "source": [
    "from gensim.parsing.porter import PorterStemmer\n",
    "porter_stemmer = PorterStemmer()\n",
    "# Get the stemmed_tokens\n",
    "top_data_df_small['stemmed_tokens'] = [[porter_stemmer.stem(word) for word in tokens] for tokens in top_data_df_small['tokenized_text'] ]\n",
    "top_data_df_small['stemmed_tokens'].head(10)"
   ]
  },
  {
   "cell_type": "markdown",
   "metadata": {},
   "source": [
    "* >Train-Test Split\n",
    "- We use `train_test_split` from scikit-learn to split the data.\n",
    "- The function `split_train_test` takes the dataset, \n",
    "- splits it into training (70%) and testing (30%) sets, and shuffles the data.\n",
    "- It returns the features (`X_train`, `X_test`) and labels (`Y_train`, `Y_test`) for both sets.\n",
    "- The function also prints the distribution of sentiments in the training and testing sets to ensure the split is balanced.\n"
   ]
  },
  {
   "cell_type": "code",
   "execution_count": 9,
   "metadata": {},
   "outputs": [
    {
     "name": "stdout",
     "output_type": "stream",
     "text": [
      "Value counts for Train sentiments\n",
      " 1    7036\n",
      "-1    7008\n",
      " 0    6956\n",
      "Name: sentiment, dtype: int64\n",
      "Value counts for Test sentiments\n",
      " 0    3044\n",
      "-1    2992\n",
      " 1    2964\n",
      "Name: sentiment, dtype: int64\n",
      "<class 'pandas.core.frame.DataFrame'>\n",
      "<class 'pandas.core.series.Series'>\n",
      "   index             business_id  cool                 date  funny  \\\n",
      "0  41964  h7zxeLAdUyAO6S6UzXJDwA     0  2018-05-20 02:15:46      0   \n",
      "1  21237  ySXKjndttZjNy3kcqRqG3g     0  2015-12-20 20:30:12      0   \n",
      "2  43742  9gObo5ltOMo6UgsaXaHPWA     0  2015-12-05 23:57:22      0   \n",
      "3  35107  tvbFcYCEQWc76CUK-nBw8w     0  2018-07-27 08:09:21      0   \n",
      "4   2960  Yv6HUVu7fRMnt_NtGdVQBw     0  2018-06-19 18:16:51      0   \n",
      "\n",
      "                review_id  stars  \\\n",
      "0  xkcYjM_5w9rdSiN8_Qz_Tg      1   \n",
      "1  XIYnB19-LAI_yzJfB2d7eQ      3   \n",
      "2  Nm2XaG0sQ7p3LHoZG44cAg      1   \n",
      "3  L8Ape_IoEHiMjgiufwCp8Q      3   \n",
      "4  0uD1hdeUNPyfAaGOKpMMeQ      5   \n",
      "\n",
      "                                                text  useful  \\\n",
      "0  Kids talking and being disruptive during the w...       1   \n",
      "1  I've had the clam chowder here about 5 times. ...       1   \n",
      "2  Horrible service. We made a reservation on Yel...       0   \n",
      "3  Decent Korean barbeque, but subpar cold buckwh...       0   \n",
      "4  This is one of our favorite spots in Nashville...       0   \n",
      "\n",
      "                  user_id                                     stemmed_tokens  \n",
      "0  sZwPzjw85nriL8tf2k_yLw  [kid, talk, and, be, disrupt, dure, the, whole...  \n",
      "1  Xp3-2ZMn5mxD--SH7mBKag  [ve, had, the, clam, chowder, here, about, tim...  \n",
      "2  q_9dwLqRBM4FkxtMjHe3qQ  [horribl, servic, we, made, reserv, on, yelp, ...  \n",
      "3  c9QdM3JbLT5sCwQ4hGcHIQ  [decent, korean, barbequ, but, subpar, cold, b...  \n",
      "4  DWGywipRRede0hIpZ4tDag  [thi, is, on, of, our, favorit, spot, in, nash...  \n"
     ]
    }
   ],
   "source": [
    "from sklearn.model_selection import train_test_split\n",
    "# Train Test Split Function\n",
    "def split_train_test(top_data_df_small, test_size=0.3, shuffle_state=True):\n",
    "    X_train, X_test, Y_train, Y_test = train_test_split(top_data_df_small[['business_id', 'cool', 'date', 'funny', 'review_id', 'stars', 'text', 'useful', 'user_id', 'stemmed_tokens']], \n",
    "                                                        top_data_df_small['sentiment'], \n",
    "                                                        shuffle=shuffle_state,\n",
    "                                                        test_size=test_size, \n",
    "                                                        random_state=15)\n",
    "    print(\"Value counts for Train sentiments\")\n",
    "    print(Y_train.value_counts())\n",
    "    print(\"Value counts for Test sentiments\")\n",
    "    print(Y_test.value_counts())\n",
    "    print(type(X_train))\n",
    "    print(type(Y_train))\n",
    "    X_train = X_train.reset_index()\n",
    "    X_test = X_test.reset_index()\n",
    "    Y_train = Y_train.to_frame()\n",
    "    Y_train = Y_train.reset_index()\n",
    "    Y_test = Y_test.to_frame()\n",
    "    Y_test = Y_test.reset_index()\n",
    "    print(X_train.head())\n",
    "    return X_train, X_test, Y_train, Y_test\n",
    "\n",
    "# Call the train_test_split\n",
    "X_train, X_test, Y_train, Y_test = split_train_test(top_data_df_small)"
   ]
  },
  {
   "cell_type": "markdown",
   "metadata": {},
   "source": [
    "## Setting up the Environment"
   ]
  },
  {
   "cell_type": "markdown",
   "metadata": {},
   "source": [
    "* > Setting Up PyTorch Device\n",
    "- This cell sets up the PyTorch environment and selects the device for running the model.\n",
    "- It imports necessary PyTorch libraries for building and training neural networks.\n",
    "- The device is set to \"cuda\" if a GPU is available, otherwise it falls back to \"cpu\".\n"
   ]
  },
  {
   "cell_type": "markdown",
   "metadata": {},
   "source": [
    "- Main advantage of using PyTorch is that you can run the computations on gpu for faster speed."
   ]
  },
  {
   "cell_type": "code",
   "execution_count": null,
   "metadata": {},
   "outputs": [],
   "source": [
    "import torch.nn as nn\n",
    "import torch.nn.functional as F\n",
    "import torch.optim as optim\n",
    "\n",
    "import torch\n",
    "# Use cuda if present\n",
    "device = torch.device(\"cuda\" if torch.cuda.is_available() else \"cpu\")\n",
    "print(\"Device available for running: \")\n",
    "print(device)"
   ]
  },
  {
   "cell_type": "markdown",
   "metadata": {},
   "source": [
    "* > Steps in PyTorch for NN Model\n",
    "- Define the NN model\n",
    "- Override the forward function\n",
    "- Initialise Optimisation and loss function for training\n",
    "- Iterate over dataset of inputs\n",
    "- Compute the loss\n",
    "- Propagate gradients back into the network’s parameters\n",
    "- Update the weights and biases"
   ]
  },
  {
   "cell_type": "markdown",
   "metadata": {},
   "source": [
    "## Feed Forward Neural Network"
   ]
  },
  {
   "cell_type": "markdown",
   "metadata": {},
   "source": [
    "* > Model:\n",
    "- This cell defines the architecture of the feedforward neural network model using PyTorch.\n",
    "\n",
    "  - Activation Function: ReLU\n",
    "  - Number of Hidden Layers: 2\n",
    "  - Dimension of Hidden Layer: 500\n",
    "\n",
    "  - We use sfotmax as the output function as we have 3 classes.\n",
    "  \n",
    "- The model creates and connects nodes in the following manner:\n",
    "  - Input layer to first hidden layer with 500 units\n",
    "  - First hidden layer to second hidden layer with 500 units\n",
    "  - Second hidden layer to output layer with 3 units (corresponding to sentiment classes)\n"
   ]
  },
  {
   "cell_type": "code",
   "execution_count": 13,
   "metadata": {},
   "outputs": [],
   "source": [
    "class FeedforwardNeuralNetModel(nn.Module):\n",
    "    def __init__(self, input_dim, hidden_dim, output_dim):\n",
    "        super(FeedforwardNeuralNetModel, self).__init__()\n",
    "        \n",
    "        # Linear function 1: vocab_size --> 500\n",
    "        self.fc1 = nn.Linear(input_dim, hidden_dim) \n",
    "        # Non-linearity 1\n",
    "        self.relu1 = nn.ReLU()\n",
    "\n",
    "        # Linear function 2: 500 --> 500\n",
    "        self.fc2 = nn.Linear(hidden_dim, hidden_dim)\n",
    "        # Non-linearity 2\n",
    "        self.relu2 = nn.ReLU()\n",
    "\n",
    "        # Linear function 3 (readout): 500 --> 3\n",
    "        self.fc3 = nn.Linear(hidden_dim, output_dim)  \n",
    "\n",
    "    def forward(self, x):\n",
    "        # Linear function 1\n",
    "        out = self.fc1(x)\n",
    "        # Non-linearity 1\n",
    "        out = self.relu1(out)\n",
    "\n",
    "        # Linear function 2\n",
    "        out = self.fc2(out)\n",
    "        # Non-linearity 2\n",
    "        out = self.relu2(out)\n",
    "\n",
    "        # Linear function 3 (readout)\n",
    "        out = self.fc3(out)\n",
    "\n",
    "        return F.softmax(out, dim=1)"
   ]
  },
  {
   "cell_type": "markdown",
   "metadata": {},
   "source": [
    "* > Dictionary for Tokenized Words\n",
    "- This cell creates a dictionary from the tokenized text data.\n",
    "- The dictionary maps each unique word to a unique integer ID.\n",
    "- We create the dictionary without padding for the basic models.\n"
   ]
  },
  {
   "cell_type": "code",
   "execution_count": 14,
   "metadata": {},
   "outputs": [
    {
     "name": "stdout",
     "output_type": "stream",
     "text": [
      "Dictionary without padding\n"
     ]
    }
   ],
   "source": [
    "from gensim import corpora\n",
    "# Function to return the dictionary either with padding word or without padding\n",
    "def make_dict(top_data_df_small, padding=True):\n",
    "    if padding:\n",
    "        print(\"Dictionary with padded token added\")\n",
    "        review_dict = corpora.Dictionary([['pad']])\n",
    "        review_dict.add_documents(top_data_df_small['stemmed_tokens'])\n",
    "    else:\n",
    "        print(\"Dictionary without padding\")\n",
    "        review_dict = corpora.Dictionary(top_data_df_small['stemmed_tokens'])\n",
    "    return review_dict\n",
    "\n",
    "# Make the dictionary without padding for the basic models\n",
    "review_dict = make_dict(top_data_df_small, padding=False)"
   ]
  },
  {
   "cell_type": "markdown",
   "metadata": {},
   "source": [
    "- Making each input into a vector"
   ]
  },
  {
   "cell_type": "code",
   "execution_count": 15,
   "metadata": {},
   "outputs": [
    {
     "data": {
      "text/plain": [
       "26780"
      ]
     },
     "execution_count": 15,
     "metadata": {},
     "output_type": "execute_result"
    }
   ],
   "source": [
    "len(review_dict)"
   ]
  },
  {
   "cell_type": "markdown",
   "metadata": {},
   "source": [
    "* > BOW vectors\n",
    "- The `VOCAB_SIZE` is determined by the length of the dictionary created from the tokenized text data.\n",
    "- The `NUM_LABELS` is set to 3, corresponding to the three sentiment classes (positive, neutral, negative).\n",
    "- The function `make_bow_vector` converts a sentence into a bag-of-words (BoW) vector.\n",
    "- This vector is used as input to the neural network.\n"
   ]
  },
  {
   "cell_type": "code",
   "execution_count": 16,
   "metadata": {},
   "outputs": [],
   "source": [
    "VOCAB_SIZE = len(review_dict)\n",
    "NUM_LABELS = 3\n",
    "\n",
    "# Function to make bow vector to be used as input to network\n",
    "def make_bow_vector(review_dict, sentence):\n",
    "    vec = torch.zeros(VOCAB_SIZE, dtype=torch.float64, device=device)\n",
    "    for word in sentence:\n",
    "        vec[review_dict.token2id[word]] += 1\n",
    "    return vec.view(1, -1).float()"
   ]
  },
  {
   "cell_type": "markdown",
   "metadata": {},
   "source": [
    "- converting output to tensors"
   ]
  },
  {
   "cell_type": "markdown",
   "metadata": {},
   "source": [
    "- The function `make_target` maps the sentiment labels (-1, 0, 1) to corresponding class indices (0, 1, 2).\n",
    "  - A label of -1 (negative sentiment) is mapped to index 0.\n",
    "  - A label of 0 (neutral sentiment) is mapped to index 1.\n",
    "  - A label of 1 (positive sentiment) is mapped to index 2.\n",
    "- The function returns the target tensor in the format required by PyTorch."
   ]
  },
  {
   "cell_type": "code",
   "execution_count": 17,
   "metadata": {},
   "outputs": [],
   "source": [
    "def make_target(label):\n",
    "    if label == -1:\n",
    "        return torch.tensor([0], dtype=torch.long, device=device)\n",
    "    elif label == 0:\n",
    "        return torch.tensor([1], dtype=torch.long, device=device)\n",
    "    else:\n",
    "        return torch.tensor([2], dtype=torch.long, device=device)"
   ]
  },
  {
   "cell_type": "markdown",
   "metadata": {},
   "source": [
    "## Setting Up the Model\n",
    "- In this step, we set the parameters for our model.\n",
    "- We are using a Feedforward Neural Network.\n",
    "- For this part, we are using CrossEntropyLoss as the loss function.\n",
    "- The optimizer used is Stochastic Gradient Descent (SGD) with a learning rate of 0.001.\n",
    "- The model parameters include:\n",
    "  - `input_dim` set to the vocabulary size.\n",
    "  - `hidden_dim` set to 500, representing the size of the hidden layers.\n",
    "  - `output_dim` set to 3, corresponding to the three sentiment classes.\n",
    "  - `num_epochs` set to 100, indicating the number of training iterations.\n"
   ]
  },
  {
   "cell_type": "code",
   "execution_count": 18,
   "metadata": {},
   "outputs": [],
   "source": [
    "VOCAB_SIZE = len(review_dict)\n",
    "\n",
    "input_dim = VOCAB_SIZE\n",
    "hidden_dim = 500\n",
    "output_dim = 3\n",
    "num_epochs = 100\n",
    "\n",
    "ff_nn_bow_model = FeedforwardNeuralNetModel(input_dim, hidden_dim, output_dim)\n",
    "ff_nn_bow_model.to(device)\n",
    "\n",
    "loss_function = nn.CrossEntropyLoss()\n",
    "optimizer = optim.SGD(ff_nn_bow_model.parameters(), lr=0.001)"
   ]
  },
  {
   "cell_type": "markdown",
   "metadata": {},
   "source": [
    "## Model Training\n",
    "- In this step, we train the feedforward neural network model.\n",
    "- We run the model for 100 epochs and save the results.\n",
    "- The training loss for each epoch is saved to a CSV file.\n",
    "- We save the average loss for the epoch to the file.\n",
    "-\n",
    "- The code iterates over the NN model repeatedly to update the weights of the predictors after each iteration using the loss.\n",
    "- The calculation of the weights, is don using backpropagation."
   ]
  },
  {
   "cell_type": "code",
   "execution_count": 22,
   "metadata": {},
   "outputs": [
    {
     "name": "stdout",
     "output_type": "stream",
     "text": [
      "Epoch completed: 25\n",
      "Epoch completed: 50\n",
      "Epoch completed: 75\n",
      "Epoch completed: 100\n"
     ]
    }
   ],
   "source": [
    "ffnn_loss_file_name = 'ffnn_bow_class_big_loss_500_epoch_100_less_lr_model1.csv'\n",
    "f = open(ffnn_loss_file_name,'w')\n",
    "f.write('iter, loss')\n",
    "f.write('\\n')\n",
    "losses = []\n",
    "iter = 0\n",
    "# Start training\n",
    "for epoch in range(num_epochs):\n",
    "    if (epoch+1) % 25 == 0:\n",
    "        print(\"Epoch completed: \" + str(epoch+1))\n",
    "    train_loss = 0\n",
    "    for index, row in X_train.iterrows():\n",
    "        # Clearing the accumulated gradients\n",
    "        optimizer.zero_grad()\n",
    "\n",
    "        # Make the bag of words vector for stemmed tokens \n",
    "        bow_vec = make_bow_vector(review_dict, row['stemmed_tokens'])\n",
    "       \n",
    "        # Forward pass to get output\n",
    "        probs = ff_nn_bow_model(bow_vec)\n",
    "\n",
    "        # Get the target label\n",
    "        target = make_target(Y_train['sentiment'][index])\n",
    "\n",
    "        # Calculate Loss: softmax --> cross entropy loss\n",
    "        loss = loss_function(probs, target)\n",
    "        # Accumulating the loss over time\n",
    "        train_loss += loss.item()\n",
    "\n",
    "        # Getting gradients w.r.t. parameters\n",
    "        loss.backward()\n",
    "\n",
    "        # Updating parameters\n",
    "        optimizer.step()\n",
    "    f.write(str((epoch+1)) + \",\" + str(train_loss / len(X_train)))\n",
    "    f.write('\\n')\n",
    "    train_loss = 0\n",
    "\n",
    "f.close()"
   ]
  },
  {
   "cell_type": "markdown",
   "metadata": {},
   "source": [
    "## Testing  Model\n",
    "- We use the test dataset to make predictions and evaluate the model's performance.\n",
    "- The `classification_report` from scikit-learn is used to print a detailed report of the model's performance.\n",
    "- \n",
    "- The Classification Report:\n",
    "    - We can see that the overall accuracy and individual class accuracy measures.\n",
    "- We plot the training loss over epochs and save the plot as a PDF.\n"
   ]
  },
  {
   "cell_type": "code",
   "execution_count": 24,
   "metadata": {},
   "outputs": [
    {
     "name": "stdout",
     "output_type": "stream",
     "text": [
      "              precision    recall  f1-score   support\n",
      "\n",
      "           0       0.79      0.74      0.76      2992\n",
      "           1       0.65      0.59      0.62      3044\n",
      "           2       0.73      0.84      0.78      2964\n",
      "\n",
      "    accuracy                           0.72      9000\n",
      "   macro avg       0.72      0.72      0.72      9000\n",
      "weighted avg       0.72      0.72      0.72      9000\n",
      "\n",
      "100\n",
      "Index(['iter', ' loss'], dtype='object')\n"
     ]
    },
    {
     "data": {
      "image/png": "[encoded data removed]",
      "text/plain": [
       "<Figure size 640x480 with 1 Axes>"
      ]
     },
     "metadata": {},
     "output_type": "display_data"
    }
   ],
   "source": [
    "from sklearn.metrics import classification_report\n",
    "bow_ff_nn_predictions = []\n",
    "original_lables_ff_bow = []\n",
    "with torch.no_grad():\n",
    "    for index, row in X_test.iterrows():\n",
    "        bow_vec = make_bow_vector(review_dict, row['stemmed_tokens'])\n",
    "        probs = ff_nn_bow_model(bow_vec)\n",
    "        bow_ff_nn_predictions.append(torch.argmax(probs, dim=1).cpu().numpy()[0])\n",
    "        original_lables_ff_bow.append(make_target(Y_test['sentiment'][index]).cpu().numpy()[0])\n",
    "print(classification_report(original_lables_ff_bow,bow_ff_nn_predictions))\n",
    "ffnn_loss_df = pd.read_csv(ffnn_loss_file_name)\n",
    "print(len(ffnn_loss_df))\n",
    "print(ffnn_loss_df.columns)\n",
    "ffnn_plt_500_padding_100_epochs = ffnn_loss_df[' loss'].plot()\n",
    "fig = ffnn_plt_500_padding_100_epochs.get_figure()\n",
    "fig.savefig(\"ffnn_bow_loss_500_padding_100_epochs_less_lr_model1.pdf\")"
   ]
  },
  {
   "cell_type": "code",
   "execution_count": null,
   "metadata": {},
   "outputs": [],
   "source": []
  }
 ],
 "metadata": {
  "kernelspec": {
   "display_name": "Python 3",
   "language": "python",
   "name": "python3"
  },
  "language_info": {
   "codemirror_mode": {
    "name": "ipython",
    "version": 3
   },
   "file_extension": ".py",
   "mimetype": "text/x-python",
   "name": "python",
   "nbconvert_exporter": "python",
   "pygments_lexer": "ipython3",
   "version": "3.12.0"
  }
 },
 "nbformat": 4,
 "nbformat_minor": 2
}
